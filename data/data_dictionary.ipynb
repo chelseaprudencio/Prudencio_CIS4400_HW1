{
 "cells": [
  {
   "cell_type": "markdown",
   "id": "711ec54c",
   "metadata": {},
   "source": [
    "## Preview the dataset from CSV File"
   ]
  },
  {
   "cell_type": "code",
   "execution_count": 9,
   "id": "26a92ec4",
   "metadata": {},
   "outputs": [
    {
     "name": "stdout",
     "output_type": "stream",
     "text": [
      "                     DBA   BORO BUILDING              STREET  ZIPCODE  \\\n",
      "0  MORRIS PARK BAKE SHOP  Bronx     1007  MORRIS PARK AVENUE  10462.0   \n",
      "1  MORRIS PARK BAKE SHOP  Bronx     1007  MORRIS PARK AVENUE  10462.0   \n",
      "2  MORRIS PARK BAKE SHOP  Bronx     1007  MORRIS PARK AVENUE  10462.0   \n",
      "3  MORRIS PARK BAKE SHOP  Bronx     1007  MORRIS PARK AVENUE  10462.0   \n",
      "4  MORRIS PARK BAKE SHOP  Bronx     1007  MORRIS PARK AVENUE  10462.0   \n",
      "\n",
      "        CUISINE DESCRIPTION  \\\n",
      "0  Bakery Products/Desserts   \n",
      "1  Bakery Products/Desserts   \n",
      "2  Bakery Products/Desserts   \n",
      "3  Bakery Products/Desserts   \n",
      "4  Bakery Products/Desserts   \n",
      "\n",
      "                               VIOLATION DESCRIPTION CRITICAL FLAG  SCORE  \\\n",
      "0  Food, supplies, or equipment not protected fro...      Critical   10.0   \n",
      "1  Pesticide not properly labeled or used by unli...  Not Critical   10.0   \n",
      "2  Non-food contact surface or equipment made of ...  Not Critical   10.0   \n",
      "3  Evidence of mice or live mice in establishment...      Critical   12.0   \n",
      "4  Establishment is not free of harborage or cond...  Not Critical   12.0   \n",
      "\n",
      "  GRADE GRADE DATE RECORD DATE  \n",
      "0     A    11/8/24     4/30/25  \n",
      "1     A    11/8/24     4/30/25  \n",
      "2     A    11/8/24     4/30/25  \n",
      "3     A    8/22/23     4/30/25  \n",
      "4     A    8/22/23     4/30/25  \n"
     ]
    }
   ],
   "source": [
    "import pandas as pd\n",
    "\n",
    "# Replace 'your_file.csv' with your actual file name\n",
    "df = pd.read_csv('/Users/chelseaprudencio/GitHub/typeshi/CIS4400-HW1/data/Restaurant_Grades_20250430.csv')\n",
    "\n",
    "# Preview the data\n",
    "print(df.head())"
   ]
  },
  {
   "cell_type": "markdown",
   "id": "d0032b28",
   "metadata": {},
   "source": [
    "## Create tabular view of dataset for better visbility "
   ]
  },
  {
   "cell_type": "code",
   "execution_count": null,
   "id": "36f44bf5",
   "metadata": {},
   "outputs": [
    {
     "name": "stdout",
     "output_type": "stream",
     "text": [
      "+---+-----------------------+-------+----------+--------------------+---------+--------------------------+-------------------------------------------------------------------------------------------------------------------------------------------------------------------------------------------------------------------------------------------------------------------------------------+---------------+-------+-------+------------+-------------+\n",
      "|   |          DBA          | BORO  | BUILDING |       STREET       | ZIPCODE |   CUISINE DESCRIPTION    |                                                                                                                                VIOLATION DESCRIPTION                                                                                                                                | CRITICAL FLAG | SCORE | GRADE | GRADE DATE | RECORD DATE |\n",
      "+---+-----------------------+-------+----------+--------------------+---------+--------------------------+-------------------------------------------------------------------------------------------------------------------------------------------------------------------------------------------------------------------------------------------------------------------------------------+---------------+-------+-------+------------+-------------+\n",
      "| 0 | MORRIS PARK BAKE SHOP | Bronx |   1007   | MORRIS PARK AVENUE | 10462.0 | Bakery Products/Desserts | Food, supplies, or equipment not protected from potential source of contamination during storage, preparation, transportation, display, service or from customer’s refillable, reusable container. Condiments not in single-service containers or dispensed directly by the vendor. |   Critical    | 10.0  |   A   |  11/8/24   |   4/30/25   |\n",
      "| 1 | MORRIS PARK BAKE SHOP | Bronx |   1007   | MORRIS PARK AVENUE | 10462.0 | Bakery Products/Desserts |                                                          Pesticide not properly labeled or used by unlicensed individual. Pesticide, other toxic chemical improperly used/stored. Unprotected, unlocked bait station used.                                                          | Not Critical  | 10.0  |   A   |  11/8/24   |   4/30/25   |\n",
      "| 2 | MORRIS PARK BAKE SHOP | Bronx |   1007   | MORRIS PARK AVENUE | 10462.0 | Bakery Products/Desserts |                               Non-food contact surface or equipment made of unacceptable material, not kept clean, or not properly sealed, raised, spaced or movable to allow accessibility for cleaning on all sides, above and underneath the unit.                               | Not Critical  | 10.0  |   A   |  11/8/24   |   4/30/25   |\n",
      "| 3 | MORRIS PARK BAKE SHOP | Bronx |   1007   | MORRIS PARK AVENUE | 10462.0 | Bakery Products/Desserts |                                                                                                      Evidence of mice or live mice in establishment's food or non-food areas.                                                                                                       |   Critical    | 12.0  |   A   |  8/22/23   |   4/30/25   |\n",
      "| 4 | MORRIS PARK BAKE SHOP | Bronx |   1007   | MORRIS PARK AVENUE | 10462.0 | Bakery Products/Desserts |                                                                                         Establishment is not free of harborage or conditions conducive to rodents, insects or other pests.                                                                                          | Not Critical  | 12.0  |   A   |  8/22/23   |   4/30/25   |\n",
      "+---+-----------------------+-------+----------+--------------------+---------+--------------------------+-------------------------------------------------------------------------------------------------------------------------------------------------------------------------------------------------------------------------------------------------------------------------------------+---------------+-------+-------+------------+-------------+\n"
     ]
    }
   ],
   "source": [
    "from tabulate import tabulate\n",
    "print(tabulate(df.head(), headers='keys', tablefmt='pretty'))"
   ]
  },
  {
   "cell_type": "markdown",
   "id": "c81db87d",
   "metadata": {},
   "source": [
    "## Build data dictionary using a WEB API"
   ]
  },
  {
   "cell_type": "code",
   "execution_count": null,
   "id": "8dea6223",
   "metadata": {},
   "outputs": [
    {
     "name": "stdout",
     "output_type": "stream",
     "text": [
      "{'dba': 'MORRIS PARK BAKE SHOP', 'boro': 'Bronx', 'building': '1007', 'street': 'MORRIS PARK AVENUE', 'zipcode': '10462', 'cuisine_description': 'Bakery Products/Desserts', 'violation_description': 'Food, supplies, or equipment not protected from potential source of contamination during storage, preparation, transportation, display, service or from customer’s refillable, reusable container. Condiments not in single-service containers or dispensed directly by the vendor.', 'critical_flag': 'Critical', 'score': '10', 'grade': 'A', 'grade_date': '2024-11-08T00:00:00.000', 'record_date': '2025-05-01T06:00:13.000'}\n"
     ]
    }
   ],
   "source": [
    "import requests\n",
    "\n",
    "#api endpoint to get first 5 records \n",
    "\n",
    "url = \"https://data.cityofnewyork.us/resource/gra9-xbjk.json?$limit=5\"\n",
    "response = requests.get(url) #get request to the API\n",
    "data = response.json() #convert the response to json\n",
    "print(data[0]) #structure view of the first record"
   ]
  },
  {
   "cell_type": "code",
   "execution_count": 12,
   "id": "28dacbaa",
   "metadata": {},
   "outputs": [
    {
     "data": {
      "text/html": [
       "<div>\n",
       "<style scoped>\n",
       "    .dataframe tbody tr th:only-of-type {\n",
       "        vertical-align: middle;\n",
       "    }\n",
       "\n",
       "    .dataframe tbody tr th {\n",
       "        vertical-align: top;\n",
       "    }\n",
       "\n",
       "    .dataframe thead th {\n",
       "        text-align: right;\n",
       "    }\n",
       "</style>\n",
       "<table border=\"1\" class=\"dataframe\">\n",
       "  <thead>\n",
       "    <tr style=\"text-align: right;\">\n",
       "      <th></th>\n",
       "      <th>Field Name</th>\n",
       "      <th>Description</th>\n",
       "      <th>Data Type</th>\n",
       "      <th>Constraints</th>\n",
       "    </tr>\n",
       "  </thead>\n",
       "  <tbody>\n",
       "    <tr>\n",
       "      <th>0</th>\n",
       "      <td>dba</td>\n",
       "      <td>Restaurant name</td>\n",
       "      <td>String</td>\n",
       "      <td>Required</td>\n",
       "    </tr>\n",
       "    <tr>\n",
       "      <th>1</th>\n",
       "      <td>boro</td>\n",
       "      <td>Borough of the restaurant</td>\n",
       "      <td>String</td>\n",
       "      <td>Manhattan, Bronx, Brooklyn, Queens, Staten Island</td>\n",
       "    </tr>\n",
       "    <tr>\n",
       "      <th>2</th>\n",
       "      <td>building</td>\n",
       "      <td>Street number of the address</td>\n",
       "      <td>String</td>\n",
       "      <td>Optional</td>\n",
       "    </tr>\n",
       "    <tr>\n",
       "      <th>3</th>\n",
       "      <td>street</td>\n",
       "      <td>Street name of the address</td>\n",
       "      <td>String</td>\n",
       "      <td>Optional</td>\n",
       "    </tr>\n",
       "    <tr>\n",
       "      <th>4</th>\n",
       "      <td>zipcode</td>\n",
       "      <td>ZIP code of the restaurant</td>\n",
       "      <td>String</td>\n",
       "      <td>5-digit, may be missing</td>\n",
       "    </tr>\n",
       "    <tr>\n",
       "      <th>5</th>\n",
       "      <td>cuisine_description</td>\n",
       "      <td>Type of cuisine served</td>\n",
       "      <td>String</td>\n",
       "      <td>Required</td>\n",
       "    </tr>\n",
       "    <tr>\n",
       "      <th>6</th>\n",
       "      <td>violation_description</td>\n",
       "      <td>Description of violation noted in inspection</td>\n",
       "      <td>String</td>\n",
       "      <td>Optional</td>\n",
       "    </tr>\n",
       "    <tr>\n",
       "      <th>7</th>\n",
       "      <td>critical_flag</td>\n",
       "      <td>Indicates whether violation is critical</td>\n",
       "      <td>String</td>\n",
       "      <td>Critical or Not Critical</td>\n",
       "    </tr>\n",
       "    <tr>\n",
       "      <th>8</th>\n",
       "      <td>score</td>\n",
       "      <td>Numerical inspection score</td>\n",
       "      <td>Integer</td>\n",
       "      <td>≥ 0, may be missing</td>\n",
       "    </tr>\n",
       "    <tr>\n",
       "      <th>9</th>\n",
       "      <td>grade</td>\n",
       "      <td>Assigned health inspection grade</td>\n",
       "      <td>String</td>\n",
       "      <td>A, B, C, or null</td>\n",
       "    </tr>\n",
       "    <tr>\n",
       "      <th>10</th>\n",
       "      <td>grade_date</td>\n",
       "      <td>Date when grade was assigned</td>\n",
       "      <td>DateTime</td>\n",
       "      <td>ISO format, may be null</td>\n",
       "    </tr>\n",
       "    <tr>\n",
       "      <th>11</th>\n",
       "      <td>record_date</td>\n",
       "      <td>Date when record was added</td>\n",
       "      <td>DateTime</td>\n",
       "      <td>ISO format</td>\n",
       "    </tr>\n",
       "  </tbody>\n",
       "</table>\n",
       "</div>"
      ],
      "text/plain": [
       "               Field Name                                   Description  \\\n",
       "0                     dba                               Restaurant name   \n",
       "1                    boro                     Borough of the restaurant   \n",
       "2                building                  Street number of the address   \n",
       "3                  street                    Street name of the address   \n",
       "4                 zipcode                    ZIP code of the restaurant   \n",
       "5     cuisine_description                        Type of cuisine served   \n",
       "6   violation_description  Description of violation noted in inspection   \n",
       "7           critical_flag       Indicates whether violation is critical   \n",
       "8                   score                    Numerical inspection score   \n",
       "9                   grade              Assigned health inspection grade   \n",
       "10             grade_date                  Date when grade was assigned   \n",
       "11            record_date                    Date when record was added   \n",
       "\n",
       "   Data Type                                        Constraints  \n",
       "0     String                                           Required  \n",
       "1     String  Manhattan, Bronx, Brooklyn, Queens, Staten Island  \n",
       "2     String                                           Optional  \n",
       "3     String                                           Optional  \n",
       "4     String                            5-digit, may be missing  \n",
       "5     String                                           Required  \n",
       "6     String                                           Optional  \n",
       "7     String                           Critical or Not Critical  \n",
       "8    Integer                                ≥ 0, may be missing  \n",
       "9     String                                   A, B, C, or null  \n",
       "10  DateTime                            ISO format, may be null  \n",
       "11  DateTime                                         ISO format  "
      ]
     },
     "execution_count": 12,
     "metadata": {},
     "output_type": "execute_result"
    }
   ],
   "source": [
    "import pandas as pd\n",
    "\n",
    "# Create a list of dictionaries where each dictionary is a column in the dataset\n",
    "# Each dictionary includes field name, description, data type, and constraints\n",
    "data_dictionary = [\n",
    "    {\"Field Name\": \"dba\", \"Description\": \"Restaurant name\", \"Data Type\": \"String\", \"Constraints\": \"Required\"},\n",
    "    {\"Field Name\": \"boro\", \"Description\": \"Borough of the restaurant\", \"Data Type\": \"String\", \"Constraints\": \"Manhattan, Bronx, Brooklyn, Queens, Staten Island\"},\n",
    "    {\"Field Name\": \"building\", \"Description\": \"Street number of the address\", \"Data Type\": \"String\", \"Constraints\": \"Optional\"},\n",
    "    {\"Field Name\": \"street\", \"Description\": \"Street name of the address\", \"Data Type\": \"String\", \"Constraints\": \"Optional\"},\n",
    "    {\"Field Name\": \"zipcode\", \"Description\": \"ZIP code of the restaurant\", \"Data Type\": \"String\", \"Constraints\": \"5-digit, may be missing\"},\n",
    "    {\"Field Name\": \"cuisine_description\", \"Description\": \"Type of cuisine served\", \"Data Type\": \"String\", \"Constraints\": \"Required\"},\n",
    "    {\"Field Name\": \"violation_description\", \"Description\": \"Description of violation noted in inspection\", \"Data Type\": \"String\", \"Constraints\": \"Optional\"},\n",
    "    {\"Field Name\": \"critical_flag\", \"Description\": \"Indicates whether violation is critical\", \"Data Type\": \"String\", \"Constraints\": \"Critical or Not Critical\"},\n",
    "    {\"Field Name\": \"score\", \"Description\": \"Numerical inspection score\", \"Data Type\": \"Integer\", \"Constraints\": \"≥ 0, may be missing\"},\n",
    "    {\"Field Name\": \"grade\", \"Description\": \"Assigned health inspection grade\", \"Data Type\": \"String\", \"Constraints\": \"A, B, C, or null\"},\n",
    "    {\"Field Name\": \"grade_date\", \"Description\": \"Date when grade was assigned\", \"Data Type\": \"DateTime\", \"Constraints\": \"ISO format, may be null\"},\n",
    "    {\"Field Name\": \"record_date\", \"Description\": \"Date when record was added\", \"Data Type\": \"DateTime\", \"Constraints\": \"ISO format\"}\n",
    "]\n",
    "\n",
    "# Convert the list of dictionaries into a pandas DataFrame so we can view it as a table\n",
    "df_dict = pd.DataFrame(data_dictionary)\n",
    "\n",
    "# Display the Data Dictionary\n",
    "df_dict\n"
   ]
  }
 ],
 "metadata": {
  "kernelspec": {
   "display_name": "base",
   "language": "python",
   "name": "python3"
  },
  "language_info": {
   "codemirror_mode": {
    "name": "ipython",
    "version": 3
   },
   "file_extension": ".py",
   "mimetype": "text/x-python",
   "name": "python",
   "nbconvert_exporter": "python",
   "pygments_lexer": "ipython3",
   "version": "3.11.7"
  }
 },
 "nbformat": 4,
 "nbformat_minor": 5
}
