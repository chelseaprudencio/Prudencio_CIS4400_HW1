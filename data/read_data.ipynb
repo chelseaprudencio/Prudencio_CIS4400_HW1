{
 "cells": [
  {
   "cell_type": "markdown",
   "id": "711ec54c",
   "metadata": {},
   "source": [
    "## Preview the dataset"
   ]
  },
  {
   "cell_type": "code",
   "execution_count": 4,
   "id": "26a92ec4",
   "metadata": {},
   "outputs": [
    {
     "name": "stdout",
     "output_type": "stream",
     "text": [
      "                     DBA   BORO BUILDING              STREET  ZIPCODE  \\\n",
      "0  MORRIS PARK BAKE SHOP  Bronx     1007  MORRIS PARK AVENUE  10462.0   \n",
      "1  MORRIS PARK BAKE SHOP  Bronx     1007  MORRIS PARK AVENUE  10462.0   \n",
      "2  MORRIS PARK BAKE SHOP  Bronx     1007  MORRIS PARK AVENUE  10462.0   \n",
      "3  MORRIS PARK BAKE SHOP  Bronx     1007  MORRIS PARK AVENUE  10462.0   \n",
      "4  MORRIS PARK BAKE SHOP  Bronx     1007  MORRIS PARK AVENUE  10462.0   \n",
      "\n",
      "        CUISINE DESCRIPTION  \\\n",
      "0  Bakery Products/Desserts   \n",
      "1  Bakery Products/Desserts   \n",
      "2  Bakery Products/Desserts   \n",
      "3  Bakery Products/Desserts   \n",
      "4  Bakery Products/Desserts   \n",
      "\n",
      "                               VIOLATION DESCRIPTION CRITICAL FLAG  SCORE  \\\n",
      "0  Food, supplies, or equipment not protected fro...      Critical   10.0   \n",
      "1  Pesticide not properly labeled or used by unli...  Not Critical   10.0   \n",
      "2  Non-food contact surface or equipment made of ...  Not Critical   10.0   \n",
      "3  Evidence of mice or live mice in establishment...      Critical   12.0   \n",
      "4  Establishment is not free of harborage or cond...  Not Critical   12.0   \n",
      "\n",
      "  GRADE GRADE DATE RECORD DATE  \n",
      "0     A    11/8/24     4/30/25  \n",
      "1     A    11/8/24     4/30/25  \n",
      "2     A    11/8/24     4/30/25  \n",
      "3     A    8/22/23     4/30/25  \n",
      "4     A    8/22/23     4/30/25  \n"
     ]
    }
   ],
   "source": [
    "import pandas as pd\n",
    "\n",
    "# Replace 'your_file.csv' with your actual file name\n",
    "df = pd.read_csv('/Users/chelseaprudencio/GitHub/typeshi/CIS4400-HW1/data/Restaurant_Grades_20250430.csv')\n",
    "\n",
    "# Preview the data\n",
    "print(df.head())"
   ]
  },
  {
   "cell_type": "markdown",
   "id": "d0032b28",
   "metadata": {},
   "source": [
    "## Create tabular view of dataset for better visbility "
   ]
  },
  {
   "cell_type": "code",
   "execution_count": 5,
   "id": "36f44bf5",
   "metadata": {},
   "outputs": [
    {
     "name": "stdout",
     "output_type": "stream",
     "text": [
      "+---+-----------------------+-------+----------+--------------------+---------+--------------------------+-------------------------------------------------------------------------------------------------------------------------------------------------------------------------------------------------------------------------------------------------------------------------------------+---------------+-------+-------+------------+-------------+\n",
      "|   |          DBA          | BORO  | BUILDING |       STREET       | ZIPCODE |   CUISINE DESCRIPTION    |                                                                                                                                VIOLATION DESCRIPTION                                                                                                                                | CRITICAL FLAG | SCORE | GRADE | GRADE DATE | RECORD DATE |\n",
      "+---+-----------------------+-------+----------+--------------------+---------+--------------------------+-------------------------------------------------------------------------------------------------------------------------------------------------------------------------------------------------------------------------------------------------------------------------------------+---------------+-------+-------+------------+-------------+\n",
      "| 0 | MORRIS PARK BAKE SHOP | Bronx |   1007   | MORRIS PARK AVENUE | 10462.0 | Bakery Products/Desserts | Food, supplies, or equipment not protected from potential source of contamination during storage, preparation, transportation, display, service or from customer’s refillable, reusable container. Condiments not in single-service containers or dispensed directly by the vendor. |   Critical    | 10.0  |   A   |  11/8/24   |   4/30/25   |\n",
      "| 1 | MORRIS PARK BAKE SHOP | Bronx |   1007   | MORRIS PARK AVENUE | 10462.0 | Bakery Products/Desserts |                                                          Pesticide not properly labeled or used by unlicensed individual. Pesticide, other toxic chemical improperly used/stored. Unprotected, unlocked bait station used.                                                          | Not Critical  | 10.0  |   A   |  11/8/24   |   4/30/25   |\n",
      "| 2 | MORRIS PARK BAKE SHOP | Bronx |   1007   | MORRIS PARK AVENUE | 10462.0 | Bakery Products/Desserts |                               Non-food contact surface or equipment made of unacceptable material, not kept clean, or not properly sealed, raised, spaced or movable to allow accessibility for cleaning on all sides, above and underneath the unit.                               | Not Critical  | 10.0  |   A   |  11/8/24   |   4/30/25   |\n",
      "| 3 | MORRIS PARK BAKE SHOP | Bronx |   1007   | MORRIS PARK AVENUE | 10462.0 | Bakery Products/Desserts |                                                                                                      Evidence of mice or live mice in establishment's food or non-food areas.                                                                                                       |   Critical    | 12.0  |   A   |  8/22/23   |   4/30/25   |\n",
      "| 4 | MORRIS PARK BAKE SHOP | Bronx |   1007   | MORRIS PARK AVENUE | 10462.0 | Bakery Products/Desserts |                                                                                         Establishment is not free of harborage or conditions conducive to rodents, insects or other pests.                                                                                          | Not Critical  | 12.0  |   A   |  8/22/23   |   4/30/25   |\n",
      "+---+-----------------------+-------+----------+--------------------+---------+--------------------------+-------------------------------------------------------------------------------------------------------------------------------------------------------------------------------------------------------------------------------------------------------------------------------------+---------------+-------+-------+------------+-------------+\n"
     ]
    }
   ],
   "source": [
    "from tabulate import tabulate\n",
    "print(tabulate(df.head(), headers='keys', tablefmt='pretty'))\n"
   ]
  },
  {
   "cell_type": "code",
   "execution_count": null,
   "id": "8dea6223",
   "metadata": {},
   "outputs": [],
   "source": []
  }
 ],
 "metadata": {
  "kernelspec": {
   "display_name": "base",
   "language": "python",
   "name": "python3"
  },
  "language_info": {
   "codemirror_mode": {
    "name": "ipython",
    "version": 3
   },
   "file_extension": ".py",
   "mimetype": "text/x-python",
   "name": "python",
   "nbconvert_exporter": "python",
   "pygments_lexer": "ipython3",
   "version": "3.11.7"
  }
 },
 "nbformat": 4,
 "nbformat_minor": 5
}
