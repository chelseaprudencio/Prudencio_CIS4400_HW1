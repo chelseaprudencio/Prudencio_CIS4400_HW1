{
 "cells": [
  {
   "cell_type": "markdown",
   "id": "5452fdae",
   "metadata": {},
   "source": [
    "## Install Libraries"
   ]
  },
  {
   "cell_type": "code",
   "execution_count": 1,
   "id": "19bad38c",
   "metadata": {},
   "outputs": [
    {
     "name": "stdout",
     "output_type": "stream",
     "text": [
      "Requirement already satisfied: azure-storage-blob in /Library/Frameworks/Python.framework/Versions/3.13/lib/python3.13/site-packages (12.24.1)\n",
      "Requirement already satisfied: azure-core>=1.30.0 in /Library/Frameworks/Python.framework/Versions/3.13/lib/python3.13/site-packages (from azure-storage-blob) (1.32.0)\n",
      "Requirement already satisfied: cryptography>=2.1.4 in /Library/Frameworks/Python.framework/Versions/3.13/lib/python3.13/site-packages (from azure-storage-blob) (44.0.2)\n",
      "Requirement already satisfied: typing-extensions>=4.6.0 in /Library/Frameworks/Python.framework/Versions/3.13/lib/python3.13/site-packages (from azure-storage-blob) (4.12.2)\n",
      "Requirement already satisfied: isodate>=0.6.1 in /Library/Frameworks/Python.framework/Versions/3.13/lib/python3.13/site-packages (from azure-storage-blob) (0.7.2)\n",
      "Requirement already satisfied: requests>=2.21.0 in /Library/Frameworks/Python.framework/Versions/3.13/lib/python3.13/site-packages (from azure-core>=1.30.0->azure-storage-blob) (2.32.3)\n",
      "Requirement already satisfied: six>=1.11.0 in /Users/chelseaprudencio/Library/Python/3.13/lib/python/site-packages (from azure-core>=1.30.0->azure-storage-blob) (1.17.0)\n",
      "Requirement already satisfied: cffi>=1.12 in /Library/Frameworks/Python.framework/Versions/3.13/lib/python3.13/site-packages (from cryptography>=2.1.4->azure-storage-blob) (1.17.1)\n",
      "Requirement already satisfied: pycparser in /Library/Frameworks/Python.framework/Versions/3.13/lib/python3.13/site-packages (from cffi>=1.12->cryptography>=2.1.4->azure-storage-blob) (2.22)\n",
      "Requirement already satisfied: charset-normalizer<4,>=2 in /Library/Frameworks/Python.framework/Versions/3.13/lib/python3.13/site-packages (from requests>=2.21.0->azure-core>=1.30.0->azure-storage-blob) (3.4.1)\n",
      "Requirement already satisfied: idna<4,>=2.5 in /Library/Frameworks/Python.framework/Versions/3.13/lib/python3.13/site-packages (from requests>=2.21.0->azure-core>=1.30.0->azure-storage-blob) (3.10)\n",
      "Requirement already satisfied: urllib3<3,>=1.21.1 in /Library/Frameworks/Python.framework/Versions/3.13/lib/python3.13/site-packages (from requests>=2.21.0->azure-core>=1.30.0->azure-storage-blob) (2.3.0)\n",
      "Requirement already satisfied: certifi>=2017.4.17 in /Library/Frameworks/Python.framework/Versions/3.13/lib/python3.13/site-packages (from requests>=2.21.0->azure-core>=1.30.0->azure-storage-blob) (2025.4.26)\n",
      "Note: you may need to restart the kernel to use updated packages.\n"
     ]
    }
   ],
   "source": [
    "%pip install azure-storage-blob"
   ]
  },
  {
   "cell_type": "markdown",
   "id": "ecfbefae",
   "metadata": {},
   "source": [
    "## Import Libraries "
   ]
  },
  {
   "cell_type": "code",
   "execution_count": 6,
   "id": "2724167c",
   "metadata": {},
   "outputs": [],
   "source": [
    "import os, uuid\n",
    "from azure.storage.blob import BlobServiceClient, BlobClient, ContainerClient\n",
    "import pandas as pd\n",
    "import numpy as np\n",
    "import json\n",
    "import requests\n",
    "import io "
   ]
  },
  {
   "cell_type": "code",
   "execution_count": 10,
   "id": "3fe224b7",
   "metadata": {},
   "outputs": [
    {
     "data": {
      "text/html": [
       "<div>\n",
       "<style scoped>\n",
       "    .dataframe tbody tr th:only-of-type {\n",
       "        vertical-align: middle;\n",
       "    }\n",
       "\n",
       "    .dataframe tbody tr th {\n",
       "        vertical-align: top;\n",
       "    }\n",
       "\n",
       "    .dataframe thead th {\n",
       "        text-align: right;\n",
       "    }\n",
       "</style>\n",
       "<table border=\"1\" class=\"dataframe\">\n",
       "  <thead>\n",
       "    <tr style=\"text-align: right;\">\n",
       "      <th></th>\n",
       "      <th>DBA</th>\n",
       "      <th>BORO</th>\n",
       "      <th>BUILDING</th>\n",
       "      <th>STREET</th>\n",
       "      <th>ZIPCODE</th>\n",
       "      <th>CUISINE DESCRIPTION</th>\n",
       "      <th>VIOLATION DESCRIPTION</th>\n",
       "      <th>CRITICAL FLAG</th>\n",
       "      <th>SCORE</th>\n",
       "      <th>GRADE</th>\n",
       "      <th>GRADE DATE</th>\n",
       "      <th>RECORD DATE</th>\n",
       "    </tr>\n",
       "  </thead>\n",
       "  <tbody>\n",
       "    <tr>\n",
       "      <th>0</th>\n",
       "      <td>MORRIS PARK BAKE SHOP</td>\n",
       "      <td>Bronx</td>\n",
       "      <td>1007</td>\n",
       "      <td>MORRIS PARK AVENUE</td>\n",
       "      <td>10462.0</td>\n",
       "      <td>Bakery Products/Desserts</td>\n",
       "      <td>Food, supplies, or equipment not protected fro...</td>\n",
       "      <td>Critical</td>\n",
       "      <td>10.0</td>\n",
       "      <td>A</td>\n",
       "      <td>11/08/2024</td>\n",
       "      <td>05/12/2025</td>\n",
       "    </tr>\n",
       "    <tr>\n",
       "      <th>1</th>\n",
       "      <td>MORRIS PARK BAKE SHOP</td>\n",
       "      <td>Bronx</td>\n",
       "      <td>1007</td>\n",
       "      <td>MORRIS PARK AVENUE</td>\n",
       "      <td>10462.0</td>\n",
       "      <td>Bakery Products/Desserts</td>\n",
       "      <td>Pesticide not properly labeled or used by unli...</td>\n",
       "      <td>Not Critical</td>\n",
       "      <td>10.0</td>\n",
       "      <td>A</td>\n",
       "      <td>11/08/2024</td>\n",
       "      <td>05/12/2025</td>\n",
       "    </tr>\n",
       "    <tr>\n",
       "      <th>2</th>\n",
       "      <td>MORRIS PARK BAKE SHOP</td>\n",
       "      <td>Bronx</td>\n",
       "      <td>1007</td>\n",
       "      <td>MORRIS PARK AVENUE</td>\n",
       "      <td>10462.0</td>\n",
       "      <td>Bakery Products/Desserts</td>\n",
       "      <td>Non-food contact surface or equipment made of ...</td>\n",
       "      <td>Not Critical</td>\n",
       "      <td>10.0</td>\n",
       "      <td>A</td>\n",
       "      <td>11/08/2024</td>\n",
       "      <td>05/12/2025</td>\n",
       "    </tr>\n",
       "    <tr>\n",
       "      <th>3</th>\n",
       "      <td>MORRIS PARK BAKE SHOP</td>\n",
       "      <td>Bronx</td>\n",
       "      <td>1007</td>\n",
       "      <td>MORRIS PARK AVENUE</td>\n",
       "      <td>10462.0</td>\n",
       "      <td>Bakery Products/Desserts</td>\n",
       "      <td>Evidence of mice or live mice in establishment...</td>\n",
       "      <td>Critical</td>\n",
       "      <td>12.0</td>\n",
       "      <td>A</td>\n",
       "      <td>08/22/2023</td>\n",
       "      <td>05/12/2025</td>\n",
       "    </tr>\n",
       "    <tr>\n",
       "      <th>4</th>\n",
       "      <td>MORRIS PARK BAKE SHOP</td>\n",
       "      <td>Bronx</td>\n",
       "      <td>1007</td>\n",
       "      <td>MORRIS PARK AVENUE</td>\n",
       "      <td>10462.0</td>\n",
       "      <td>Bakery Products/Desserts</td>\n",
       "      <td>Establishment is not free of harborage or cond...</td>\n",
       "      <td>Not Critical</td>\n",
       "      <td>12.0</td>\n",
       "      <td>A</td>\n",
       "      <td>08/22/2023</td>\n",
       "      <td>05/12/2025</td>\n",
       "    </tr>\n",
       "  </tbody>\n",
       "</table>\n",
       "</div>"
      ],
      "text/plain": [
       "                     DBA   BORO BUILDING              STREET  ZIPCODE  \\\n",
       "0  MORRIS PARK BAKE SHOP  Bronx     1007  MORRIS PARK AVENUE  10462.0   \n",
       "1  MORRIS PARK BAKE SHOP  Bronx     1007  MORRIS PARK AVENUE  10462.0   \n",
       "2  MORRIS PARK BAKE SHOP  Bronx     1007  MORRIS PARK AVENUE  10462.0   \n",
       "3  MORRIS PARK BAKE SHOP  Bronx     1007  MORRIS PARK AVENUE  10462.0   \n",
       "4  MORRIS PARK BAKE SHOP  Bronx     1007  MORRIS PARK AVENUE  10462.0   \n",
       "\n",
       "        CUISINE DESCRIPTION  \\\n",
       "0  Bakery Products/Desserts   \n",
       "1  Bakery Products/Desserts   \n",
       "2  Bakery Products/Desserts   \n",
       "3  Bakery Products/Desserts   \n",
       "4  Bakery Products/Desserts   \n",
       "\n",
       "                               VIOLATION DESCRIPTION CRITICAL FLAG  SCORE  \\\n",
       "0  Food, supplies, or equipment not protected fro...      Critical   10.0   \n",
       "1  Pesticide not properly labeled or used by unli...  Not Critical   10.0   \n",
       "2  Non-food contact surface or equipment made of ...  Not Critical   10.0   \n",
       "3  Evidence of mice or live mice in establishment...      Critical   12.0   \n",
       "4  Establishment is not free of harborage or cond...  Not Critical   12.0   \n",
       "\n",
       "  GRADE  GRADE DATE RECORD DATE  \n",
       "0     A  11/08/2024  05/12/2025  \n",
       "1     A  11/08/2024  05/12/2025  \n",
       "2     A  11/08/2024  05/12/2025  \n",
       "3     A  08/22/2023  05/12/2025  \n",
       "4     A  08/22/2023  05/12/2025  "
      ]
     },
     "execution_count": 10,
     "metadata": {},
     "output_type": "execute_result"
    }
   ],
   "source": [
    "RESTAURANT_DOWNLOAD_URL = \"https://data.cityofnewyork.us/api/views/gra9-xbjk/rows.csv?fourfour=gra9-xbjk&cacheBust=1747074970&date=20250512&accessType=DOWNLOAD\"\n",
    "\n",
    "response = requests.get(RESTAURANT_DOWNLOAD_URL)\n",
    "df = pd.read_csv(io.StringIO(response.text))\n",
    "df.head()"
   ]
  },
  {
   "cell_type": "code",
   "execution_count": 11,
   "id": "5acdeaa7",
   "metadata": {},
   "outputs": [
    {
     "name": "stdout",
     "output_type": "stream",
     "text": [
      "Number of rows: 128947\n",
      "Number of columns: 12\n"
     ]
    }
   ],
   "source": [
    "## confirm all rows and columns \n",
    "print(f\"Number of rows: {df.shape[0]}\")\n",
    "print(f\"Number of columns: {df.shape[1]}\")"
   ]
  }
 ],
 "metadata": {
  "kernelspec": {
   "display_name": "Python 3",
   "language": "python",
   "name": "python3"
  },
  "language_info": {
   "codemirror_mode": {
    "name": "ipython",
    "version": 3
   },
   "file_extension": ".py",
   "mimetype": "text/x-python",
   "name": "python",
   "nbconvert_exporter": "python",
   "pygments_lexer": "ipython3",
   "version": "3.13.1"
  }
 },
 "nbformat": 4,
 "nbformat_minor": 5
}
