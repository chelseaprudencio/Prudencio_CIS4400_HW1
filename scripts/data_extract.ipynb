{
 "cells": [
  {
   "cell_type": "markdown",
   "id": "f69daf73",
   "metadata": {},
   "source": [
    "## import libraries"
   ]
  },
  {
   "cell_type": "code",
   "execution_count": 6,
   "id": "f0091eb2",
   "metadata": {},
   "outputs": [
    {
     "name": "stdout",
     "output_type": "stream",
     "text": [
      "Requirement already satisfied: beautifulsoup4 in /Library/Frameworks/Python.framework/Versions/3.13/lib/python3.13/site-packages (4.13.3)\n",
      "Requirement already satisfied: azure-storage-blob in /Library/Frameworks/Python.framework/Versions/3.13/lib/python3.13/site-packages (12.24.1)\n",
      "Requirement already satisfied: soupsieve>1.2 in /Library/Frameworks/Python.framework/Versions/3.13/lib/python3.13/site-packages (from beautifulsoup4) (2.6)\n",
      "Requirement already satisfied: typing-extensions>=4.0.0 in /Library/Frameworks/Python.framework/Versions/3.13/lib/python3.13/site-packages (from beautifulsoup4) (4.12.2)\n",
      "Requirement already satisfied: azure-core>=1.30.0 in /Library/Frameworks/Python.framework/Versions/3.13/lib/python3.13/site-packages (from azure-storage-blob) (1.32.0)\n",
      "Requirement already satisfied: cryptography>=2.1.4 in /Library/Frameworks/Python.framework/Versions/3.13/lib/python3.13/site-packages (from azure-storage-blob) (44.0.2)\n",
      "Requirement already satisfied: isodate>=0.6.1 in /Library/Frameworks/Python.framework/Versions/3.13/lib/python3.13/site-packages (from azure-storage-blob) (0.7.2)\n",
      "Requirement already satisfied: requests>=2.21.0 in /Library/Frameworks/Python.framework/Versions/3.13/lib/python3.13/site-packages (from azure-core>=1.30.0->azure-storage-blob) (2.32.3)\n",
      "Requirement already satisfied: six>=1.11.0 in /Users/chelseaprudencio/Library/Python/3.13/lib/python/site-packages (from azure-core>=1.30.0->azure-storage-blob) (1.17.0)\n",
      "Requirement already satisfied: cffi>=1.12 in /Library/Frameworks/Python.framework/Versions/3.13/lib/python3.13/site-packages (from cryptography>=2.1.4->azure-storage-blob) (1.17.1)\n",
      "Requirement already satisfied: pycparser in /Library/Frameworks/Python.framework/Versions/3.13/lib/python3.13/site-packages (from cffi>=1.12->cryptography>=2.1.4->azure-storage-blob) (2.22)\n",
      "Requirement already satisfied: charset-normalizer<4,>=2 in /Library/Frameworks/Python.framework/Versions/3.13/lib/python3.13/site-packages (from requests>=2.21.0->azure-core>=1.30.0->azure-storage-blob) (3.4.1)\n",
      "Requirement already satisfied: idna<4,>=2.5 in /Library/Frameworks/Python.framework/Versions/3.13/lib/python3.13/site-packages (from requests>=2.21.0->azure-core>=1.30.0->azure-storage-blob) (3.10)\n",
      "Requirement already satisfied: urllib3<3,>=1.21.1 in /Library/Frameworks/Python.framework/Versions/3.13/lib/python3.13/site-packages (from requests>=2.21.0->azure-core>=1.30.0->azure-storage-blob) (2.3.0)\n",
      "Requirement already satisfied: certifi>=2017.4.17 in /Library/Frameworks/Python.framework/Versions/3.13/lib/python3.13/site-packages (from requests>=2.21.0->azure-core>=1.30.0->azure-storage-blob) (2025.4.26)\n",
      "Note: you may need to restart the kernel to use updated packages.\n",
      "Requirement already satisfied: boto3 in /Library/Frameworks/Python.framework/Versions/3.13/lib/python3.13/site-packages (1.38.10)\n",
      "Requirement already satisfied: botocore<1.39.0,>=1.38.10 in /Library/Frameworks/Python.framework/Versions/3.13/lib/python3.13/site-packages (from boto3) (1.38.10)\n",
      "Requirement already satisfied: jmespath<2.0.0,>=0.7.1 in /Library/Frameworks/Python.framework/Versions/3.13/lib/python3.13/site-packages (from boto3) (1.0.1)\n",
      "Requirement already satisfied: s3transfer<0.13.0,>=0.12.0 in /Library/Frameworks/Python.framework/Versions/3.13/lib/python3.13/site-packages (from boto3) (0.12.0)\n",
      "Requirement already satisfied: python-dateutil<3.0.0,>=2.1 in /Users/chelseaprudencio/Library/Python/3.13/lib/python/site-packages (from botocore<1.39.0,>=1.38.10->boto3) (2.9.0.post0)\n",
      "Requirement already satisfied: urllib3!=2.2.0,<3,>=1.25.4 in /Library/Frameworks/Python.framework/Versions/3.13/lib/python3.13/site-packages (from botocore<1.39.0,>=1.38.10->boto3) (2.3.0)\n",
      "Requirement already satisfied: six>=1.5 in /Users/chelseaprudencio/Library/Python/3.13/lib/python/site-packages (from python-dateutil<3.0.0,>=2.1->botocore<1.39.0,>=1.38.10->boto3) (1.17.0)\n",
      "Note: you may need to restart the kernel to use updated packages.\n",
      "Requirement already satisfied: tabula-py in /Library/Frameworks/Python.framework/Versions/3.13/lib/python3.13/site-packages (2.10.0)\n",
      "Requirement already satisfied: pandas>=0.25.3 in /Library/Frameworks/Python.framework/Versions/3.13/lib/python3.13/site-packages (from tabula-py) (2.2.3)\n",
      "Requirement already satisfied: numpy>1.24.4 in /Library/Frameworks/Python.framework/Versions/3.13/lib/python3.13/site-packages (from tabula-py) (2.2.3)\n",
      "Requirement already satisfied: distro in /Library/Frameworks/Python.framework/Versions/3.13/lib/python3.13/site-packages (from tabula-py) (1.9.0)\n",
      "Requirement already satisfied: python-dateutil>=2.8.2 in /Users/chelseaprudencio/Library/Python/3.13/lib/python/site-packages (from pandas>=0.25.3->tabula-py) (2.9.0.post0)\n",
      "Requirement already satisfied: pytz>=2020.1 in /Library/Frameworks/Python.framework/Versions/3.13/lib/python3.13/site-packages (from pandas>=0.25.3->tabula-py) (2025.1)\n",
      "Requirement already satisfied: tzdata>=2022.7 in /Library/Frameworks/Python.framework/Versions/3.13/lib/python3.13/site-packages (from pandas>=0.25.3->tabula-py) (2025.1)\n",
      "Requirement already satisfied: six>=1.5 in /Users/chelseaprudencio/Library/Python/3.13/lib/python/site-packages (from python-dateutil>=2.8.2->pandas>=0.25.3->tabula-py) (1.17.0)\n",
      "Note: you may need to restart the kernel to use updated packages.\n",
      "Requirement already satisfied: tabulate in /Library/Frameworks/Python.framework/Versions/3.13/lib/python3.13/site-packages (0.9.0)\n",
      "Note: you may need to restart the kernel to use updated packages.\n",
      "Requirement already satisfied: PyPDF2 in /Library/Frameworks/Python.framework/Versions/3.13/lib/python3.13/site-packages (3.0.1)\n",
      "Note: you may need to restart the kernel to use updated packages.\n",
      "Requirement already satisfied: pdfplumber in /Library/Frameworks/Python.framework/Versions/3.13/lib/python3.13/site-packages (0.11.5)\n",
      "Requirement already satisfied: pdfminer.six==20231228 in /Library/Frameworks/Python.framework/Versions/3.13/lib/python3.13/site-packages (from pdfplumber) (20231228)\n",
      "Requirement already satisfied: Pillow>=9.1 in /Library/Frameworks/Python.framework/Versions/3.13/lib/python3.13/site-packages (from pdfplumber) (11.1.0)\n",
      "Requirement already satisfied: pypdfium2>=4.18.0 in /Library/Frameworks/Python.framework/Versions/3.13/lib/python3.13/site-packages (from pdfplumber) (4.30.1)\n",
      "Requirement already satisfied: charset-normalizer>=2.0.0 in /Library/Frameworks/Python.framework/Versions/3.13/lib/python3.13/site-packages (from pdfminer.six==20231228->pdfplumber) (3.4.1)\n",
      "Requirement already satisfied: cryptography>=36.0.0 in /Library/Frameworks/Python.framework/Versions/3.13/lib/python3.13/site-packages (from pdfminer.six==20231228->pdfplumber) (44.0.2)\n",
      "Requirement already satisfied: cffi>=1.12 in /Library/Frameworks/Python.framework/Versions/3.13/lib/python3.13/site-packages (from cryptography>=36.0.0->pdfminer.six==20231228->pdfplumber) (1.17.1)\n",
      "Requirement already satisfied: pycparser in /Library/Frameworks/Python.framework/Versions/3.13/lib/python3.13/site-packages (from cffi>=1.12->cryptography>=36.0.0->pdfminer.six==20231228->pdfplumber) (2.22)\n",
      "Note: you may need to restart the kernel to use updated packages.\n"
     ]
    }
   ],
   "source": [
    "%pip install beautifulsoup4 azure-storage-blob\n",
    "%pip install boto3\n",
    "%pip install tabula-py \n",
    "%pip install tabulate\n",
    "%pip install PyPDF2\n",
    "%pip install pdfplumber"
   ]
  },
  {
   "cell_type": "code",
   "execution_count": 7,
   "id": "9aaa8e99",
   "metadata": {},
   "outputs": [],
   "source": [
    "import os, uuid\n",
    "from azure.storage.blob import BlobServiceClient, BlobClient, ContainerClient\n",
    "import pandas as pd\n",
    "import numpy as np\n",
    "import json \n",
    "import requests\n",
    "import io\n"
   ]
  },
  {
   "cell_type": "markdown",
   "id": "b76afd32",
   "metadata": {},
   "source": [
    "### Configuration"
   ]
  },
  {
   "cell_type": "code",
   "execution_count": 8,
   "id": "0f6cfa5b",
   "metadata": {},
   "outputs": [],
   "source": [
    "AZURE_CONNECTION_STRING = \"\"\n",
    "CONTAINER_NAME = \"\"\n",
    "\n",
    "#read from config.json file\n",
    "with open('config.json') as f:\n",
    "    config = json.load(f)\n",
    "    AZURE_CONNECTION_STRING = config['AZURE_CONNECTION_STRING']\n",
    "    CONTAINER_NAME = config['CONTAINER_NAME']"
   ]
  },
  {
   "cell_type": "markdown",
   "id": "f61e1348",
   "metadata": {},
   "source": [
    "### import records in batches of 50,000"
   ]
  },
  {
   "cell_type": "code",
   "execution_count": 9,
   "id": "e8c2f55a",
   "metadata": {},
   "outputs": [
    {
     "name": "stdout",
     "output_type": "stream",
     "text": [
      "https://data.cityofnewyork.us/resource/gra9-xbjk.json?$limit=50000&$offset=0\n",
      "https://data.cityofnewyork.us/resource/gra9-xbjk.json?$limit=50000&$offset=50000\n",
      "https://data.cityofnewyork.us/resource/gra9-xbjk.json?$limit=50000&$offset=100000\n"
     ]
    }
   ],
   "source": [
    "#import records in batches of 50,000\n",
    "number_of_rows = 128281\n",
    "limit = 50000\n",
    "\n",
    "for offset in range(0, number_of_rows, limit):\n",
    "    # Download the json file from the URL\n",
    "    restaurant_download_url_json = f\"https://data.cityofnewyork.us/resource/gra9-xbjk.json?$limit={limit}&$offset={offset}\"\n",
    "    print(restaurant_download_url_json)\n",
    "    response = requests.get(restaurant_download_url_json)\n",
    "    data = response.json()\n",
    "    \n",
    "    #upload to azure blob storage with connection string\n",
    "    connection_string = \"DefaultEndpointsProtocol=https;AccountName=your_account_name;AccountKey=your_account_key;EndpointSuffix=core.windows.net\"\n",
    "    blob_service_client = BlobServiceClient.from_connection_string(connection_string)\n",
    "\n"
   ]
  },
  {
   "cell_type": "code",
   "execution_count": null,
   "id": "a19d9464",
   "metadata": {},
   "outputs": [],
   "source": []
  }
 ],
 "metadata": {
  "kernelspec": {
   "display_name": "Python 3",
   "language": "python",
   "name": "python3"
  },
  "language_info": {
   "codemirror_mode": {
    "name": "ipython",
    "version": 3
   },
   "file_extension": ".py",
   "mimetype": "text/x-python",
   "name": "python",
   "nbconvert_exporter": "python",
   "pygments_lexer": "ipython3",
   "version": "3.13.1"
  }
 },
 "nbformat": 4,
 "nbformat_minor": 5
}
