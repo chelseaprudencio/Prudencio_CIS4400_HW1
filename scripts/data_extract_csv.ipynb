{
 "cells": [
  {
   "cell_type": "code",
   "execution_count": null,
   "id": "f0091eb2",
   "metadata": {},
   "outputs": [],
   "source": [
    "%pip install beautifulsoup4 azure-storage-blob\n",
    "%pip install boto3\n",
    "%pip install tabula-py \n",
    "%pip install tabulate\n",
    "%pip install PyPDF2\n",
    "%pip install pdfplumber"
   ]
  },
  {
   "cell_type": "code",
   "execution_count": null,
   "id": "9aaa8e99",
   "metadata": {},
   "outputs": [],
   "source": [
    "import pandas as pd\n",
    "import numpy as np\n",
    "import matplotlib.pyplot as plt \n",
    "import seaborn as sns\n",
    "import statsmodels.api as sm"
   ]
  },
  {
   "cell_type": "code",
   "execution_count": null,
   "id": "38b722c0",
   "metadata": {},
   "outputs": [],
   "source": [
    "from azure.storage.blob import BlobServiceClient\n",
    "import pandas as pd\n",
    "from io import StringIO\n",
    "import requests\n",
    "import certifi\n",
    "\n",
    "# Step 1: Fetch the data from the API endpoint\n",
    "api_url = \"https://data.cityofnewyork.us/resource/gra9-xbjk.csv\"\n",
    "csv_file_name = \"restaurant_grades.csv\"  # Name of the file to save locally and upload\n",
    "\n",
    "try:\n",
    "    # Fetch the data using requests with SSL verification\n",
    "    response = requests.get(api_url, verify=certifi.where())\n",
    "    response.raise_for_status()  # Raise an error for bad status codes\n",
    "\n",
    "    # Convert the response content to a DataFrame\n",
    "    data = StringIO(response.text)\n",
    "    df = pd.read_csv(data)\n",
    "    print(\"Data fetched successfully!\")\n",
    "    print(df.head())  # Display the first few rows of the DataFrame\n",
    "\n",
    "    # Save the DataFrame to a local CSV file\n",
    "    df.to_csv(csv_file_name, index=False)\n",
    "    print(f\"File '{csv_file_name}' saved locally.\")\n",
    "except Exception as e:\n",
    "    print(f\"An error occurred while fetching data: {e}\")\n",
    "\n",
    "# Step 2: Upload the file to Azure Blob Storage\n",
    "connection_string = \"DefaultEndpointsProtocol=https;AccountName=strestaurantgrade;AccountKey=MTFwd/viTQS/J3dgVpgZ+8DVkAWeOa+a0yfMf/QkuxV63bWao99w7cvM3Hf9+6ayQeA0lkWH6Vis+AStHFgr3Q==;EndpointSuffix=core.windows.net\"  # Replace with your Azure Storage connection string\n",
    "container_name = \"restaurantdata\"        \n",
    "blob_name = csv_file_name                          # Use the same name for the blob\n",
    "\n",
    "try:\n",
    "    # Create a BlobServiceClient\n",
    "    blob_service_client = BlobServiceClient.from_connection_string(connection_string)\n",
    "\n",
    "    # Get a BlobClient for the container and blob\n",
    "    blob_client = blob_service_client.get_blob_client(container=container_name, blob=blob_name)\n",
    "\n",
    "    # Upload the CSV file to Azure Blob Storage\n",
    "    with open(csv_file_name, \"rb\") as data:\n",
    "        blob_client.upload_blob(data, overwrite=True)\n",
    "\n",
    "    print(f\"File '{csv_file_name}' uploaded to Azure Blob Storage successfully!\")\n",
    "except Exception as e:\n",
    "    print(f\"An error occurred while uploading to Azure Blob Storage: {e}\")"
   ]
  }
 ],
 "metadata": {
  "language_info": {
   "name": "python"
  }
 },
 "nbformat": 4,
 "nbformat_minor": 5
}
